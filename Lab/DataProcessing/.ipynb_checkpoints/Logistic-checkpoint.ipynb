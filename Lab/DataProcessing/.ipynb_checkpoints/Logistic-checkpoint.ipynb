{
 "cells": [
  {
   "cell_type": "code",
   "execution_count": 3,
   "metadata": {},
   "outputs": [
    {
     "data": {
      "text/plain": [
       "pandas.core.frame.DataFrame"
      ]
     },
     "execution_count": 3,
     "metadata": {},
     "output_type": "execute_result"
    }
   ],
   "source": [
    "# performing logisticregression on heart disee\n",
    "# import required modules\n",
    "#%matplotlib inline # sets the backend of matplotlib to the 'inline' backend\n",
    "import pandas as pd # Python Data Analysis Library\n",
    "import numpy as np  # NumPy is the fundamental package for scientific computing with Python\n",
    "import matplotlib.pyplot as plt # Matplotlib is a Python 2D plotting library\n",
    "from collections import Counter \n",
    "from pprint import pprint \n",
    "\n",
    "\n",
    "#Reading data\n",
    "#Setting the column names\n",
    "columns = [\"age\", \"sex\", \"cp\", \"restbp\", \"chol\", \"fbs\", \"restecg\", \n",
    "           \"thalach\", \"exang\", \"oldpeak\", \"slope\", \"ca\", \"thal\", \"num\"]\n",
    "#Reading the data fron CSV file using pandas and creating dataframe.\n",
    "df0 = pd.read_table(\"processed.cleveland.data.csv\", sep=',', header=None, names=columns)\n",
    "\n",
    "\n",
    "\n",
    "#To find mean,count,etc.\n",
    "df0.describe()\n",
    "#type(df0)"
   ]
  },
  {
   "cell_type": "code",
   "execution_count": null,
   "metadata": {},
   "outputs": [],
   "source": []
  }
 ],
 "metadata": {
  "kernelspec": {
   "display_name": "Python 3",
   "language": "python",
   "name": "python3"
  },
  "language_info": {
   "codemirror_mode": {
    "name": "ipython",
    "version": 3
   },
   "file_extension": ".py",
   "mimetype": "text/x-python",
   "name": "python",
   "nbconvert_exporter": "python",
   "pygments_lexer": "ipython3",
   "version": "3.6.5"
  }
 },
 "nbformat": 4,
 "nbformat_minor": 2
}
